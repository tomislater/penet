{
 "cells": [
  {
   "cell_type": "code",
   "execution_count": 41,
   "metadata": {
    "collapsed": false
   },
   "outputs": [
    {
     "name": "stdout",
     "output_type": "stream",
     "text": [
      "983 982\n"
     ]
    }
   ],
   "source": [
    "max_recurring_cycle = 0\n",
    "number = 1\n",
    "\n",
    "for d in range(1, 1000):\n",
    "    \n",
    "    numbers = []\n",
    "    \n",
    "    for k in range(1000):\n",
    "        result = 10**k % d\n",
    "        \n",
    "        if result in numbers:\n",
    "            recurring_cycle = len(numbers[numbers.index(result):])\n",
    "            \n",
    "            if recurring_cycle > max_recurring_cycle:\n",
    "                max_recurring_cycle = recurring_cycle\n",
    "                number = d\n",
    "            break\n",
    "        else:\n",
    "            numbers.append(result)\n",
    "\n",
    "print number, max_recurring_cycle"
   ]
  },
  {
   "cell_type": "code",
   "execution_count": null,
   "metadata": {
    "collapsed": true
   },
   "outputs": [],
   "source": [
    ""
   ]
  },
  {
   "cell_type": "code",
   "execution_count": null,
   "metadata": {
    "collapsed": true
   },
   "outputs": [],
   "source": [
    ""
   ]
  }
 ],
 "metadata": {
  "kernelspec": {
   "display_name": "Python 2",
   "language": "python",
   "name": "python2"
  },
  "language_info": {
   "codemirror_mode": {
    "name": "ipython",
    "version": 2.0
   },
   "file_extension": ".py",
   "mimetype": "text/x-python",
   "name": "python",
   "nbconvert_exporter": "python",
   "pygments_lexer": "ipython2",
   "version": "2.7.11"
  }
 },
 "nbformat": 4,
 "nbformat_minor": 0
}